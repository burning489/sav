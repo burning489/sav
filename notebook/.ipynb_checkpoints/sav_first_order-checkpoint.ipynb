{
 "cells": [
  {
   "cell_type": "code",
   "execution_count": 1,
   "metadata": {},
   "outputs": [
    {
     "name": "stdout",
     "output_type": "stream",
     "text": [
      "Using matplotlib backend: MacOSX\n"
     ]
    }
   ],
   "source": [
    "from savpy.sav_first_order import sav_first_order as model\n",
    "from savpy.utils import compute_energy\n",
    "import numpy as np\n",
    "import matplotlib.pyplot as plt\n",
    "%matplotlib auto"
   ]
  },
  {
   "cell_type": "markdown",
   "metadata": {},
   "source": [
    "## Free Energy Functional\n",
    "$$ \\mathcal E(\\phi) = \\int [ \\frac{1}{2}|\\nabla \\phi|^2 + \\frac{(\\phi^2-\\beta-1)^2}{4\\varepsilon^2}]dx $$\n"
   ]
  },
  {
   "cell_type": "markdown",
   "metadata": {},
   "source": [
    "## Allen-Cahn Equation\n",
    "$$ \\phi_t = -\\mu $$\n",
    "$$ \\mu = \\frac{\\delta \\mathcal E(\\phi)}{\\delta \\phi} =  -\\Delta \\phi + \\frac{\\phi(\\phi^2-\\beta-1)}{\\varepsilon^2}$$"
   ]
  },
  {
   "cell_type": "markdown",
   "metadata": {},
   "source": [
    "## Initial Phase\n",
    "$$ \\phi(x, y, 0) = 0.05\\sin(2\\pi x)\\sin(2\\pi y)$$"
   ]
  },
  {
   "cell_type": "code",
   "execution_count": 2,
   "metadata": {},
   "outputs": [
    {
     "name": "stdout",
     "output_type": "stream",
     "text": [
      "CPU times: user 17.4 s, sys: 627 ms, total: 18 s\n",
      "Wall time: 18 s\n"
     ]
    }
   ],
   "source": [
    "%%time\n",
    "params = {\"Nx\":128, \"Ny\":128, \"Lx\":1, \"Ly\":1, \"T\":5000, \"dt\":1e-5, \"beta\":2, \"C\":0, \"eps\":1e-2}\n",
    "phi_list, r_list = model(**params)"
   ]
  },
  {
   "cell_type": "code",
   "execution_count": 3,
   "metadata": {},
   "outputs": [],
   "source": [
    "def animate_phase(phi_list, **kwargs):\n",
    "    t_sleep = 1e-3\n",
    "    Nx, Ny = kwargs[\"Nx\"], kwargs[\"Ny\"]\n",
    "    T = phi_list.shape[0]\n",
    "    for i in range(30):\n",
    "        plt.title('time {}/{}'.format(i+1, T))\n",
    "        plt.imshow(phi_list[i].reshape(Nx,Ny))\n",
    "        plt.pause(t_sleep)\n",
    "    for i in range(30, T, (T-20)//30):\n",
    "        plt.title('time {}/{}'.format(i+1, T))\n",
    "        plt.imshow(phi_list[i].reshape(Nx,Ny))\n",
    "        plt.pause(t_sleep)\n",
    "    plt.title('time {}/{}'.format(T, T))\n",
    "    plt.imshow(phi_list[-1].reshape(Nx,Ny))"
   ]
  },
  {
   "cell_type": "code",
   "execution_count": 4,
   "metadata": {},
   "outputs": [],
   "source": [
    "animate_phase(phi_list, **params)"
   ]
  },
  {
   "cell_type": "markdown",
   "metadata": {},
   "source": [
    "## Modified Energy\n",
    "$$\\mathcal E_{modified} = \\int [ \\frac{1}{2}|\\nabla \\phi|^2 + r^2 ] dx  $$"
   ]
  },
  {
   "cell_type": "code",
   "execution_count": 3,
   "metadata": {},
   "outputs": [],
   "source": [
    "def plot_energy(phi_list, r_list, **kwargs):\n",
    "    Nx, Ny, T = kwargs[\"Nx\"], kwargs[\"Ny\"], kwargs[\"T\"]\n",
    "    modified_energy = np.empty(T)\n",
    "    raw_energy = np.empty(T)\n",
    "    for i in range(0, T):\n",
    "        modified_energy[i], raw_energy[i] = compute_energy(phi_list[i].reshape(Nx, Ny), r_list[i].reshape(Nx, Ny), **params)\n",
    "    fig = plt.figure(figsize=(10,6))\n",
    "    ax1 = plt.subplot(1,2,1) \n",
    "    ax2 = plt.subplot(1,2,2)\n",
    "    ax1.loglog(np.arange(T), modified_energy, label='modified')\n",
    "    ax1.loglog(np.arange(T), raw_energy, label='raw')\n",
    "    ax2.plot(np.arange(T), modified_energy, label='modified')\n",
    "    ax2.plot(np.arange(T), raw_energy, label='raw')\n",
    "    ax1.legend()\n",
    "    ax1.set_title('loglog')\n",
    "    ax2.legend()\n",
    "    ax2.set_title('simple plot')"
   ]
  },
  {
   "cell_type": "code",
   "execution_count": 4,
   "metadata": {},
   "outputs": [],
   "source": [
    "plot_energy(phi_list, r_list, **params)"
   ]
  },
  {
   "cell_type": "code",
   "execution_count": 4,
   "metadata": {},
   "outputs": [],
   "source": [
    "def save_phase(phi_list, **kwargs):\n",
    "    Nx, Ny = kwargs[\"Nx\"], kwargs[\"Ny\"]\n",
    "    T = phi_list.shape[0]\n",
    "    for i in range(0, 30, 10):\n",
    "        plt.title('time {}/{}'.format(i+1, T))\n",
    "        plt.imshow(phi_list[i].reshape(Nx,Ny))\n",
    "        plt.savefig('../pics/phase_{}.jpg'.format(i+1))\n",
    "    for i in range(30, T, (T-20)//10):\n",
    "        plt.title('time {}/{}'.format(i+1, T))\n",
    "        plt.imshow(phi_list[i].reshape(Nx,Ny))\n",
    "        plt.savefig('../pics/phase_{}.jpg'.format(i+1))\n",
    "    plt.title('time {}/{}'.format(T, T))\n",
    "    plt.imshow(phi_list[-1].reshape(Nx,Ny))\n",
    "    plt.savefig('../pics/phase_{}.jpg'.format(T))"
   ]
  },
  {
   "cell_type": "code",
   "execution_count": 5,
   "metadata": {},
   "outputs": [],
   "source": [
    "save_phase(phi_list,**params)"
   ]
  },
  {
   "cell_type": "code",
   "execution_count": null,
   "metadata": {},
   "outputs": [],
   "source": []
  }
 ],
 "metadata": {
  "kernelspec": {
   "display_name": "Python 3",
   "language": "python",
   "name": "python3"
  },
  "language_info": {
   "codemirror_mode": {
    "name": "ipython",
    "version": 3
   },
   "file_extension": ".py",
   "mimetype": "text/x-python",
   "name": "python",
   "nbconvert_exporter": "python",
   "pygments_lexer": "ipython3",
   "version": "3.8.1"
  }
 },
 "nbformat": 4,
 "nbformat_minor": 4
}
